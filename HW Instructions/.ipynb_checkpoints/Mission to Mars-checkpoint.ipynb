{
 "cells": [
  {
   "cell_type": "code",
   "execution_count": 1,
   "metadata": {},
   "outputs": [],
   "source": [
    "import pandas as pd\n",
    "from bs4 import BeautifulSoup as view\n",
    "from splinter import Browser\n",
    "import requests"
   ]
  },
  {
   "cell_type": "code",
   "execution_count": 2,
   "metadata": {},
   "outputs": [],
   "source": [
    "executable_path = {'executable_path': 'chromedriver.exe'}\n",
    "browser = Browser('chrome', **executable_path, headless=False)"
   ]
  },
  {
   "cell_type": "code",
   "execution_count": 3,
   "metadata": {},
   "outputs": [],
   "source": [
    "url = 'https://mars.nasa.gov/news/'\n",
    "browser.visit(url)\n",
    "html = browser.html"
   ]
  },
  {
   "cell_type": "code",
   "execution_count": 4,
   "metadata": {},
   "outputs": [],
   "source": [
    "soup = view(html, 'html.parser')"
   ]
  },
  {
   "cell_type": "code",
   "execution_count": 5,
   "metadata": {},
   "outputs": [
    {
     "name": "stdout",
     "output_type": "stream",
     "text": [
      "Mars New Home 'a Large Sandbox'\n"
     ]
    }
   ],
   "source": [
    "x = soup.find('div', class_=\"content_title\").get_text()\n",
    "print(x)"
   ]
  },
  {
   "cell_type": "code",
   "execution_count": 6,
   "metadata": {},
   "outputs": [
    {
     "name": "stdout",
     "output_type": "stream",
     "text": [
      "With InSight safely on the surface of Mars, the mission team is busy learning more about the spacecraft's landing site.\n"
     ]
    }
   ],
   "source": [
    "y = soup.find('div', class_=\"article_teaser_body\").get_text()\n",
    "print(y)"
   ]
  },
  {
   "cell_type": "code",
   "execution_count": 7,
   "metadata": {},
   "outputs": [],
   "source": [
    "url2 = 'https://www.jpl.nasa.gov/spaceimages/?search=&category=Mars'\n",
    "browser.visit(url2)\n",
    "browser.find_by_id('full_image').click()\n",
    "html2 = browser.html\n"
   ]
  },
  {
   "cell_type": "code",
   "execution_count": 8,
   "metadata": {},
   "outputs": [],
   "source": [
    "soup = view(html2, 'html.parser')"
   ]
  },
  {
   "cell_type": "code",
   "execution_count": 19,
   "metadata": {},
   "outputs": [
    {
     "name": "stdout",
     "output_type": "stream",
     "text": [
      "[<img alt=\"\" class=\"print_only print_logo\" src=\"/assets/images/logo_nasa_trio_black@2x.png\"/>, <img alt=\"\" class=\"print_only print_logo\" src=\"/assets/images/logo_nasa_trio_black@2x.png\"/>, <img alt=\"more arrow\" src=\"/assets/images/overlay-arrow.png\"/>, <img alt=\"Syria Planum\" class=\"thumb\" src=\"/spaceimages/images/wallpaper/PIA22883-640x350.jpg\" title=\"Syria Planum\"/>, <img alt=\"more arrow\" src=\"/assets/images/overlay-arrow.png\"/>, <img alt=\"Crater Gullies\" class=\"thumb\" src=\"/spaceimages/images/wallpaper/PIA22882-640x350.jpg\" title=\"Crater Gullies\"/>, <img alt=\"more arrow\" src=\"/assets/images/overlay-arrow.png\"/>, <img alt=\"InSight\" class=\"thumb\" cover=\"\" first=\"\" mars=\"\" of=\"\" off'=\"\" s=\"\" src=\"/spaceimages/images/wallpaper/PIA22893-640x350.jpg\" the=\"\" title=\"InSight\" view=\"\" with=\"\"/>, <img alt=\"more arrow\" src=\"/assets/images/overlay-arrow.png\"/>, <img alt=\"Unlatching InSight\" arm'=\"\" class=\"thumb\" s=\"\" src=\"/spaceimages/images/wallpaper/PIA22892-640x350.jpg\" title=\"Unlatching InSight\"/>, <img alt=\"more arrow\" src=\"/assets/images/overlay-arrow.png\"/>, <img alt=\"Away from Mars, With Reflection\" class=\"thumb\" src=\"/spaceimages/images/wallpaper/PIA22834-640x350.jpg\" title=\"Away from Mars, With Reflection\"/>, <img alt=\"more arrow\" src=\"/assets/images/overlay-arrow.png\"/>, <img alt=\"Away from Mars, With Sunburst\" class=\"thumb\" src=\"/spaceimages/images/wallpaper/PIA22832-640x350.jpg\" title=\"Away from Mars, With Sunburst\"/>, <img alt=\"more arrow\" src=\"/assets/images/overlay-arrow.png\"/>, <img alt=\"Mars, Before InSight\" class=\"thumb\" landing'=\"\" s=\"\" src=\"/spaceimages/images/wallpaper/PIA22831-640x350.jpg\" title=\"Mars, Before InSight\"/>, <img alt=\"more arrow\" src=\"/assets/images/overlay-arrow.png\"/>, <img alt=\"Solis Planum\" class=\"thumb\" src=\"/spaceimages/images/wallpaper/PIA22860-640x350.jpg\" title=\"Solis Planum\"/>, <img alt=\"more arrow\" src=\"/assets/images/overlay-arrow.png\"/>, <img alt=\"Relatively Young\" class=\"thumb\" src=\"/spaceimages/images/wallpaper/PIA22859-640x350.jpg\" title=\"Relatively Young\"/>, <img alt=\"more arrow\" src=\"/assets/images/overlay-arrow.png\"/>, <img alt=\"Crater Dunes\" class=\"thumb\" src=\"/spaceimages/images/wallpaper/PIA22858-640x350.jpg\" title=\"Crater Dunes\"/>, <img alt=\"more arrow\" src=\"/assets/images/overlay-arrow.png\"/>, <img alt=\"The Changing Ice Cap of Mars\" class=\"thumb\" src=\"/spaceimages/images/wallpaper/PIA22870-640x350.jpg\" title=\"The Changing Ice Cap of Mars\"/>, <img alt=\"more arrow\" src=\"/assets/images/overlay-arrow.png\"/>, <img alt=\"Active Dunes in Wirtz Crater\" class=\"thumb\" src=\"/spaceimages/images/wallpaper/PIA22869-640x350.jpg\" title=\"Active Dunes in Wirtz Crater\"/>, <img alt=\"more arrow\" src=\"/assets/images/overlay-arrow.png\"/>, <img alt=\"Spring Frost on a Cold World\" class=\"thumb\" src=\"/spaceimages/images/wallpaper/PIA22868-640x350.jpg\" title=\"Spring Frost on a Cold World\"/>, <img alt=\"more arrow\" src=\"/assets/images/overlay-arrow.png\"/>, <img alt=\"Looking at Martian Salts and Clays\" class=\"thumb\" src=\"/spaceimages/images/wallpaper/PIA22867-640x350.jpg\" title=\"Looking at Martian Salts and Clays\"/>, <img alt=\"more arrow\" src=\"/assets/images/overlay-arrow.png\"/>, <img alt=\"Down Hill\" class=\"thumb\" src=\"/spaceimages/images/wallpaper/PIA22857-640x350.jpg\" title=\"Down Hill\"/>, <img alt=\"more arrow\" src=\"/assets/images/overlay-arrow.png\"/>, <img alt=\"IDC Camera First Image\" class=\"thumb\" src=\"/spaceimages/images/wallpaper/PIA22575-640x350.jpg\" title=\"IDC Camera First Image\"/>, <img alt=\"more arrow\" src=\"/assets/images/overlay-arrow.png\"/>, <img alt=\"Farewell to Mars\" class=\"thumb\" src=\"/spaceimages/images/wallpaper/PIA22833-640x350.jpg\" title=\"Farewell to Mars\"/>, <img alt=\"more arrow\" src=\"/assets/images/overlay-arrow.png\"/>, <img alt=\"InSight\" class=\"thumb\" first=\"\" from=\"\" image=\"\" mars'=\"\" s=\"\" src=\"/spaceimages/images/wallpaper/PIA22829-640x350.jpg\" title=\"InSight\"/>, <img alt=\"more arrow\" src=\"/assets/images/overlay-arrow.png\"/>, <img alt=\"Nirgal Vallis\" class=\"thumb\" src=\"/spaceimages/images/wallpaper/PIA22856-640x350.jpg\" title=\"Nirgal Vallis\"/>, <img alt=\"more arrow\" src=\"/assets/images/overlay-arrow.png\"/>, <img alt=\"Two Days Till Mars for MarCO\" class=\"thumb\" src=\"/spaceimages/images/wallpaper/PIA22830-640x350.jpg\" title=\"Two Days Till Mars for MarCO\"/>, <img alt=\"more arrow\" src=\"/assets/images/overlay-arrow.png\"/>, <img alt=\"Kaiser Crater Dunes\" class=\"thumb\" src=\"/spaceimages/images/wallpaper/PIA22855-640x350.jpg\" title=\"Kaiser Crater Dunes\"/>, <img alt=\"more arrow\" src=\"/assets/images/overlay-arrow.png\"/>, <img alt=\"Amphitrites Patera\" class=\"thumb\" src=\"/spaceimages/images/wallpaper/PIA22854-640x350.jpg\" title=\"Amphitrites Patera\"/>, <img alt=\"more arrow\" src=\"/assets/images/overlay-arrow.png\"/>, <img alt=\"InSight Landing Systems\" class=\"thumb\" src=\"/spaceimages/images/wallpaper/PIA22572-640x350.jpg\" title=\"InSight Landing Systems\"/>, <img alt=\"more arrow\" src=\"/assets/images/overlay-arrow.png\"/>, <img alt=\"Martian Weather Forecast for InSight Landing\" class=\"thumb\" src=\"/spaceimages/images/wallpaper/PIA22570-640x350.jpg\" title=\"Martian Weather Forecast for InSight Landing\"/>, <img alt=\"more arrow\" src=\"/assets/images/overlay-arrow.png\"/>, <img alt=\"InSight Instrument Deployment Test in JPL Sandbox\" class=\"thumb\" src=\"/spaceimages/images/wallpaper/PIA22808-640x350.jpg\" title=\"InSight Instrument Deployment Test in JPL Sandbox\"/>, <img alt=\"more arrow\" src=\"/assets/images/overlay-arrow.png\"/>, <img alt=\"Hills\" class=\"thumb\" src=\"/spaceimages/images/wallpaper/PIA22853-640x350.jpg\" title=\"Hills\"/>, <img alt=\"more arrow\" src=\"/assets/images/overlay-arrow.png\"/>, <img alt=\"Sirenum Fossae\" class=\"thumb\" src=\"/spaceimages/images/wallpaper/PIA22852-640x350.jpg\" title=\"Sirenum Fossae\"/>, <img alt=\"more arrow\" src=\"/assets/images/overlay-arrow.png\"/>, <img alt=\"Coracis Fossae\" class=\"thumb\" src=\"/spaceimages/images/wallpaper/PIA22851-640x350.jpg\" title=\"Coracis Fossae\"/>, <img alt=\"more arrow\" src=\"/assets/images/overlay-arrow.png\"/>, <img alt=\"Gullies\" class=\"thumb\" src=\"/spaceimages/images/wallpaper/PIA22850-640x350.jpg\" title=\"Gullies\"/>, <img alt=\"more arrow\" src=\"/assets/images/overlay-arrow.png\"/>, <img alt=\"Crater Landslide\" class=\"thumb\" src=\"/spaceimages/images/wallpaper/PIA22849-640x350.jpg\" title=\"Crater Landslide\"/>, <img alt=\"more arrow\" src=\"/assets/images/overlay-arrow.png\"/>, <img alt=\"Russell Crater Dunes\" class=\"thumb\" src=\"/spaceimages/images/wallpaper/PIA22848-640x350.jpg\" title=\"Russell Crater Dunes\"/>, <img alt=\"more arrow\" src=\"/assets/images/overlay-arrow.png\"/>, <img alt=\"Small Channel\" class=\"thumb\" src=\"/spaceimages/images/wallpaper/PIA22847-640x350.jpg\" title=\"Small Channel\"/>, <img alt=\"jpl photojournal\" class=\"thumb\" src=\"/assets/images/content/tmp/images/jpl_photojournal(3x1).jpg\"/>, <img alt=\"Great images in NASA\" class=\"thumb\" src=\"/assets/images/content/tmp/images/nasa_images(3x1).jpg\"/>, <img alt=\"more arrow\" src=\"/assets/images/overlay-arrow.png\"/>, <img alt=\"NASA's InSight spacecraft popped the lens cover off its Instrument Context Camera (ICC) on Nov. 30, 2018\" src=\"//imagecache.jpl.nasa.gov/images/640x350/insight20181130-16-640x350.jpg\"/>, <img alt=\"more arrow\" src=\"/assets/images/overlay-arrow.png\"/>, <img alt=\"MarCO-B, one of the experimental Mars Cube One (MarCO) CubeSats, took this image of Mars\" src=\"//imagecache.jpl.nasa.gov/images/640x350/PIA22833-16-640x350.jpg\"/>, <img alt=\"more arrow\" src=\"/assets/images/overlay-arrow.png\"/>, <img alt=\"Tom Hoffman, InSight Project Manager, NASA JPL, left, and Sue Smrekar, InSight deputy principal investigator, NASA JPL, react after receiving confirmation\" src=\"//imagecache.jpl.nasa.gov/images/640x350/insightcheer20181126-16-640x350.jpg\"/>]\n"
     ]
    }
   ],
   "source": [
    "z= soup.find_all('img')\n",
    "print(z)"
   ]
  },
  {
   "cell_type": "code",
   "execution_count": null,
   "metadata": {},
   "outputs": [],
   "source": []
  }
 ],
 "metadata": {
  "kernelspec": {
   "display_name": "Python 3",
   "language": "python",
   "name": "python3"
  },
  "language_info": {
   "codemirror_mode": {
    "name": "ipython",
    "version": 3
   },
   "file_extension": ".py",
   "mimetype": "text/x-python",
   "name": "python",
   "nbconvert_exporter": "python",
   "pygments_lexer": "ipython3",
   "version": "3.6.5"
  }
 },
 "nbformat": 4,
 "nbformat_minor": 2
}
